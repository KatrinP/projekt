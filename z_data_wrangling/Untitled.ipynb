{
 "cells": [
  {
   "cell_type": "code",
   "execution_count": 68,
   "metadata": {
    "collapsed": false
   },
   "outputs": [],
   "source": [
    "import pandas as pd\n",
    "import glob\n",
    "import math\n",
    "from pandas import *\n",
    "import matplotlib.pyplot as plt"
   ]
  },
  {
   "cell_type": "code",
   "execution_count": 85,
   "metadata": {
    "collapsed": false
   },
   "outputs": [
    {
     "name": "stderr",
     "output_type": "stream",
     "text": [
      "C:\\Users\\pawel\\Anaconda3\\lib\\site-packages\\ipykernel\\__main__.py:1: ParserWarning: Falling back to the 'python' engine because the 'c' engine does not support sep=None with delim_whitespace=False; you can avoid this warning by specifying engine='python'.\n",
      "  if __name__ == '__main__':\n"
     ]
    }
   ],
   "source": [
    "file = pd.read_csv(\"data/hs_app/fitness/0/fitness.csv\", sep=None, index_col=0, header=None)\n",
    "# print(file)\n"
   ]
  },
  {
   "cell_type": "code",
   "execution_count": 71,
   "metadata": {
    "collapsed": false
   },
   "outputs": [
    {
     "name": "stderr",
     "output_type": "stream",
     "text": [
      "C:\\Users\\pawel\\Anaconda3\\lib\\site-packages\\ipykernel\\__main__.py:9: ParserWarning: Falling back to the 'python' engine because the 'c' engine does not support sep=None with delim_whitespace=False; you can avoid this warning by specifying engine='python'.\n"
     ]
    },
    {
     "ename": "AttributeError",
     "evalue": "'numpy.int64' object has no attribute 'replace'",
     "output_type": "error",
     "traceback": [
      "\u001b[1;31m---------------------------------------------------------------------------\u001b[0m",
      "\u001b[1;31mAttributeError\u001b[0m                            Traceback (most recent call last)",
      "\u001b[1;32m<ipython-input-71-3821dee62fac>\u001b[0m in \u001b[0;36m<module>\u001b[1;34m()\u001b[0m\n\u001b[0;32m     29\u001b[0m \u001b[1;33m\u001b[0m\u001b[0m\n\u001b[0;32m     30\u001b[0m         \u001b[0mplt\u001b[0m\u001b[1;33m.\u001b[0m\u001b[0mfigure\u001b[0m\u001b[1;33m(\u001b[0m\u001b[0mfigsize\u001b[0m\u001b[1;33m=\u001b[0m\u001b[1;33m(\u001b[0m\u001b[1;36m20\u001b[0m\u001b[1;33m,\u001b[0m \u001b[1;36m15\u001b[0m\u001b[1;33m)\u001b[0m\u001b[1;33m)\u001b[0m\u001b[1;33m\u001b[0m\u001b[0m\n\u001b[1;32m---> 31\u001b[1;33m         \u001b[0mplt\u001b[0m\u001b[1;33m.\u001b[0m\u001b[0mtitle\u001b[0m\u001b[1;33m(\u001b[0m\u001b[0mcolumn\u001b[0m\u001b[1;33m.\u001b[0m\u001b[0mreplace\u001b[0m\u001b[1;33m(\u001b[0m\u001b[1;34m\"_\"\u001b[0m\u001b[1;33m,\u001b[0m \u001b[1;34m\" \"\u001b[0m\u001b[1;33m)\u001b[0m\u001b[1;33m.\u001b[0m\u001b[0mtitle\u001b[0m\u001b[1;33m(\u001b[0m\u001b[1;33m)\u001b[0m\u001b[1;33m)\u001b[0m\u001b[1;33m\u001b[0m\u001b[0m\n\u001b[0m\u001b[0;32m     32\u001b[0m         \u001b[0mylabel\u001b[0m\u001b[1;33m(\u001b[0m\u001b[0mcolumn\u001b[0m\u001b[1;33m.\u001b[0m\u001b[0mreplace\u001b[0m\u001b[1;33m(\u001b[0m\u001b[1;34m\"_\"\u001b[0m\u001b[1;33m,\u001b[0m \u001b[1;34m\" \"\u001b[0m\u001b[1;33m)\u001b[0m\u001b[1;33m.\u001b[0m\u001b[0mtitle\u001b[0m\u001b[1;33m(\u001b[0m\u001b[1;33m)\u001b[0m\u001b[1;33m)\u001b[0m\u001b[1;33m\u001b[0m\u001b[0m\n\u001b[0;32m     33\u001b[0m         \u001b[0mxlabel\u001b[0m\u001b[1;33m(\u001b[0m\u001b[1;34m\"Generation\"\u001b[0m\u001b[1;33m)\u001b[0m\u001b[1;33m\u001b[0m\u001b[0m\n",
      "\u001b[1;31mAttributeError\u001b[0m: 'numpy.int64' object has no attribute 'replace'"
     ]
    }
   ],
   "source": [
    "data_lists = {}\n",
    "for folder in glob.glob(\"data/hs_app/fitness/*\"):\n",
    "#     print(folder)\n",
    "#     print(folder.split(\"\\\\\")[2])\n",
    "    data_lists[folder.split(\"\\\\\")[1]] = []\n",
    "#     print(data_lists)\n",
    "    for data_file in glob.glob(folder + \"/*.csv\"):\n",
    "#         print(data_file)\n",
    "        data_lists[folder.split(\"\\\\\")[1]].append(pd.read_csv(data_file, sep=None, index_col=0, header=None))\n",
    "# print(data_lists)\n",
    "\n",
    "for key in data_lists.keys():\n",
    "    \n",
    "    keyDF = (concat(data_lists[key], axis=1, keys=range(len(data_lists[key])))\n",
    "            .swaplevel(0, 1, axis=1)\n",
    "            .sortlevel(axis=1)\n",
    "            .groupby(level=0, axis=1))\n",
    "    \n",
    "    meanDFs[key] = keyDF.mean()\n",
    "    stderrDFs[key] = keyDF.std().div(math.sqrt(len(data_lists[key]))).mul(2.0)\n",
    "    \n",
    "    keyDF = None\n",
    "\n",
    "# plot data\n",
    "for column in meanDFs[key].columns:\n",
    "    \n",
    "    # don't plot generation over generation - that's pointless!\n",
    "    if not (column == \"generation\"):\n",
    "    \n",
    "        plt.figure(figsize=(20, 15))\n",
    "        plt.title(column.replace(\"_\", \" \").title())\n",
    "        ylabel(column.replace(\"_\", \" \").title())\n",
    "        xlabel(\"Generation\")\n",
    "        \n",
    "        for key in meanDFs.keys():\n",
    "\n",
    "            errorbar(x=meanDFs[key][\"generation\"], y=meanDFs[key][column], yerr=stderrDFs[key][column], label=key)\n",
    "            \n",
    "        legend(loc=2)"
   ]
  },
  {
   "cell_type": "code",
   "execution_count": 32,
   "metadata": {
    "collapsed": false
   },
   "outputs": [
    {
     "ename": "NameError",
     "evalue": "name 'key' is not defined",
     "output_type": "error",
     "traceback": [
      "\u001b[1;31m---------------------------------------------------------------------------\u001b[0m",
      "\u001b[1;31mNameError\u001b[0m                                 Traceback (most recent call last)",
      "\u001b[1;32m<ipython-input-32-95b714a55e99>\u001b[0m in \u001b[0;36m<module>\u001b[1;34m()\u001b[0m\n\u001b[0;32m     30\u001b[0m \u001b[1;33m\u001b[0m\u001b[0m\n\u001b[0;32m     31\u001b[0m \u001b[1;31m# plot data\u001b[0m\u001b[1;33m\u001b[0m\u001b[1;33m\u001b[0m\u001b[0m\n\u001b[1;32m---> 32\u001b[1;33m \u001b[1;32mfor\u001b[0m \u001b[0mcolumn\u001b[0m \u001b[1;32min\u001b[0m \u001b[0mmeanDFs\u001b[0m\u001b[1;33m[\u001b[0m\u001b[0mkey\u001b[0m\u001b[1;33m]\u001b[0m\u001b[1;33m.\u001b[0m\u001b[0mcolumns\u001b[0m\u001b[1;33m:\u001b[0m\u001b[1;33m\u001b[0m\u001b[0m\n\u001b[0m\u001b[0;32m     33\u001b[0m \u001b[1;33m\u001b[0m\u001b[0m\n\u001b[0;32m     34\u001b[0m     \u001b[1;31m# don't plot generation over generation - that's pointless!\u001b[0m\u001b[1;33m\u001b[0m\u001b[1;33m\u001b[0m\u001b[0m\n",
      "\u001b[1;31mNameError\u001b[0m: name 'key' is not defined"
     ]
    }
   ],
   "source": [
    "from pandas import *\n",
    "import glob\n",
    "\n",
    "dataLists = {}\n",
    "\n",
    "# read data\n",
    "for folder in glob.glob(\"experiment-data-directory/*\"):\n",
    "    \n",
    "    dataLists[folder.split(\"/\")[1]] = []\n",
    "    \n",
    "    for datafile in glob.glob(folder + \"/*.csv\"):\n",
    "\n",
    "        dataLists[folder.split(\"/\")[1]].append(read_csv(datafile))\n",
    "\n",
    "# calculate stats for data\n",
    "meanDFs = {}\n",
    "stderrDFs = {}\n",
    "\n",
    "for key in dataLists.keys():\n",
    "    \n",
    "    keyDF = (concat(dataLists[key], axis=1, keys=range(len(dataLists[key])))\n",
    "            .swaplevel(0, 1, axis=1)\n",
    "            .sortlevel(axis=1)\n",
    "            .groupby(level=0, axis=1))\n",
    "    \n",
    "    meanDFs[key] = keyDF.mean()\n",
    "    stderrDFs[key] = keyDF.std().div(sqrt(len(dataLists[key]))).mul(2.0)\n",
    "    \n",
    "    keyDF = None\n",
    "\n",
    "# plot data\n",
    "for column in meanDFs[key].columns:\n",
    "    \n",
    "    # don't plot generation over generation - that's pointless!\n",
    "    if not (column == \"generation\"):\n",
    "    \n",
    "        figure(figsize=(20, 15))\n",
    "        title(column.replace(\"_\", \" \").title())\n",
    "        ylabel(column.replace(\"_\", \" \").title())\n",
    "        xlabel(\"Generation\")\n",
    "        \n",
    "        for key in meanDFs.keys():\n",
    "\n",
    "            errorbar(x=meanDFs[key][\"generation\"], y=meanDFs[key][column], yerr=stderrDFs[key][column], label=key)\n",
    "            \n",
    "        legend(loc=2)\n"
   ]
  }
 ],
 "metadata": {
  "kernelspec": {
   "display_name": "Python 3",
   "language": "python",
   "name": "python3"
  },
  "language_info": {
   "codemirror_mode": {
    "name": "ipython",
    "version": 3
   },
   "file_extension": ".py",
   "mimetype": "text/x-python",
   "name": "python",
   "nbconvert_exporter": "python",
   "pygments_lexer": "ipython3",
   "version": "3.5.1"
  }
 },
 "nbformat": 4,
 "nbformat_minor": 0
}
