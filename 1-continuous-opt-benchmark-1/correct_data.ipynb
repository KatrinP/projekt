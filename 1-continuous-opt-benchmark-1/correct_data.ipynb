{
 "cells": [
  {
   "cell_type": "code",
   "execution_count": 1,
   "metadata": {
    "collapsed": true
   },
   "outputs": [],
   "source": [
    "import glob"
   ]
  },
  {
   "cell_type": "code",
   "execution_count": 10,
   "metadata": {
    "collapsed": false
   },
   "outputs": [],
   "source": [
    "flist = glob.glob('data_tmp/ghs_cont/fitness' + '/*/fitness.csv')\n",
    "flist2 = flist = glob.glob('data_tmp/ghs_cont/tmp' + '/*/fitness.csv')"
   ]
  },
  {
   "cell_type": "code",
   "execution_count": 11,
   "metadata": {
    "collapsed": false
   },
   "outputs": [
    {
     "ename": "IndexError",
     "evalue": "list index out of range",
     "output_type": "error",
     "traceback": [
      "\u001b[1;31m---------------------------------------------------------------------------\u001b[0m",
      "\u001b[1;31mIndexError\u001b[0m                                Traceback (most recent call last)",
      "\u001b[1;32m<ipython-input-11-6d499c9ed4b2>\u001b[0m in \u001b[0;36m<module>\u001b[1;34m()\u001b[0m\n\u001b[1;32m----> 1\u001b[1;33m \u001b[0mflist\u001b[0m\u001b[1;33m[\u001b[0m\u001b[1;36m0\u001b[0m\u001b[1;33m]\u001b[0m\u001b[1;33m\u001b[0m\u001b[0m\n\u001b[0m",
      "\u001b[1;31mIndexError\u001b[0m: list index out of range"
     ]
    }
   ],
   "source": [
    "flist[0]"
   ]
  },
  {
   "cell_type": "code",
   "execution_count": 5,
   "metadata": {
    "collapsed": true
   },
   "outputs": [],
   "source": [
    "for file in flist:\n",
    "    with open(file, 'a') as fout:\n",
    "        pass"
   ]
  },
  {
   "cell_type": "markdown",
   "metadata": {},
   "source": [
    "Let’s say you have a file with 276 lines, and you only need lines from 96 to 276. You can use this code:"
   ]
  },
  {
   "cell_type": "code",
   "execution_count": null,
   "metadata": {
    "collapsed": true
   },
   "outputs": [],
   "source": [
    "#!/usr/bin/python\n",
    "#command line: python smCreate.py 200nm.50.700.out.dat 200nm.50.700.out.dat\n",
    "import sys\n",
    "import shutil\n",
    "#for arg in sys.argv:    #shows input arguments\n",
    "#    print arg\n",
    "print 'Input file:'+ sys.argv[1]\n",
    "print 'Output file:'+ sys.argv[2]\n",
    "\n",
    "shutil.copy(sys.argv[1],sys.argv[2])# copied content to the new file\n",
    "\n",
    "inputFile = open(sys.argv[1], \"r+\") \n",
    "outputFile = open(sys.argv[2], \"w\")\n",
    "\n",
    "\n",
    "outputFile.writelines(inputFile.readlines()[96:276])\n",
    "inputFile.close()\n",
    "outputFile.close()\n",
    "print 'created sm file with scattering matrix'"
   ]
  },
  {
   "cell_type": "code",
   "execution_count": 7,
   "metadata": {
    "collapsed": true
   },
   "outputs": [],
   "source": [
    "import shutil\n",
    "for file in flist:\n",
    "    shutil.copy(file, 'tmp.csv')"
   ]
  },
  {
   "cell_type": "code",
   "execution_count": null,
   "metadata": {
    "collapsed": true
   },
   "outputs": [],
   "source": [
    "    ifile = open(file, \"r+\")\n",
    "    ofile = open(\"tmp.csv\", \"w\")\n",
    "    \n",
    "    ofile.writelines(ifile.readlines()[0:999])\n",
    "    ifile.close()\n",
    "    ofile.close()"
   ]
  }
 ],
 "metadata": {
  "kernelspec": {
   "display_name": "Python 3",
   "language": "python",
   "name": "python3"
  },
  "language_info": {
   "codemirror_mode": {
    "name": "ipython",
    "version": 3
   },
   "file_extension": ".py",
   "mimetype": "text/x-python",
   "name": "python",
   "nbconvert_exporter": "python",
   "pygments_lexer": "ipython3",
   "version": "3.5.1"
  }
 },
 "nbformat": 4,
 "nbformat_minor": 0
}
