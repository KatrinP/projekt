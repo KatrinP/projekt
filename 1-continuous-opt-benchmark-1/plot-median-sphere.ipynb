{
 "cells": [
  {
   "cell_type": "code",
   "execution_count": 15,
   "metadata": {
    "collapsed": true
   },
   "outputs": [],
   "source": [
    "import matplotlib\n",
    "%matplotlib inline"
   ]
  },
  {
   "cell_type": "code",
   "execution_count": 79,
   "metadata": {
    "collapsed": false
   },
   "outputs": [
    {
     "data": {
      "image/png": "[encoded data removed]",
      "text/plain": [
       "<matplotlib.figure.Figure at 0x23db621c860>"
      ]
     },
     "metadata": {},
     "output_type": "display_data"
    }
   ],
   "source": [
    "import glob\n",
    "from pylab import *\n",
    "import brewer2mpl\n",
    "\n",
    "import sys\n",
    "\n",
    " # brewer2mpl.get_map args: set name  set type  number of colors\n",
    "bmap = brewer2mpl.get_map('Set1', 'qualitative', 5)\n",
    "colors = bmap.mpl_colors\n",
    " \n",
    "params = {\n",
    "    'axes.labelsize': 8,\n",
    "    'font.size': 8,\n",
    "    'legend.fontsize': 10,\n",
    "    'xtick.labelsize': 10,\n",
    "    'ytick.labelsize': 10,\n",
    "    'text.usetex': False,\n",
    "    'figure.figsize': [4.5, 4.5]\n",
    "}\n",
    "rcParams.update(params)\n",
    "\n",
    "\n",
    "def load(dir):\n",
    "    f_list = glob.glob(dir + '/*/fitness.csv')\n",
    "    num_lines = sum(1 for line in open(f_list[0]))\n",
    "    i = 0;\n",
    "    data = np.zeros((len(f_list), num_lines)) \n",
    "    for f in f_list:\n",
    "        data[i, :] = np.loadtxt(f)[:,1]\n",
    "        i += 1\n",
    "    return data\n",
    "\n",
    "\n",
    "data_hs = load('data/hs_cont/fitness')\n",
    "data_ghs = load('data/ghs_cont/fitness')\n",
    "# data_ghs_1 = load('data/ghs_cont_1/fitness')\n",
    "# data_ghs_2 = load('data/ghs_cont_2/fitness')\n",
    "# data_ghs_3 = load('data/ghs_cont_3/fitness')\n",
    "# data_ghs_4 = load('data/ghs_cont_4/fitness')\n",
    "# data_ghs_5 = load('data/ghs_cont_5/fitness')\n",
    "# data_ghs_6 = load('data/ghs_cont_6/fitness')\n",
    "\n",
    "n_generations = data_hs.shape[1]\n",
    "x = np.arange(0, n_generations)\n",
    "\n",
    "# compute the median of each column\n",
    "def med(data):\n",
    "    median = np.zeros(data.shape[1])\n",
    "    for i in range(0, len(median)):\n",
    "        median[i] = np.median(data[:, i])\n",
    "    return median\n",
    "\n",
    "med_hs = med(data_hs)\n",
    "med_ghs = med(data_ghs)\n",
    "# med_ghs1 = med(data_ghs_1)\n",
    "# med_ghs2 = med(data_ghs_2)\n",
    "# med_ghs3 = med(data_ghs_3)\n",
    "# med_ghs4 = med(data_ghs_4)\n",
    "# med_ghs5 = med(data_ghs_5)\n",
    "# med_ghs6 = med(data_ghs_6)\n",
    "\n",
    "fig = figure()\n",
    "# xlim(-1, n_generations)\n",
    "# ylim(-10, 10)\n",
    "\n",
    "axes(frameon=0)\n",
    "grid()\n",
    "\n",
    "plot(x, med_hs, linewidth=2, color='#B22400')\n",
    "plot(x, med_ghs, linewidth=2, linestyle='--', color='#006BB2')\n",
    "# plot(x, med_ghs1, linewidth=2, linestyle='-', color='b')\n",
    "# plot(x, med_ghs2, linewidth=2, linestyle='-.', color='g')\n",
    "# plot(x, med_ghs3, linewidth=2, linestyle='-', color='r')\n",
    "# plot(x, med_ghs4, linewidth=2, linestyle='-.', color='c')\n",
    "# plot(x, med_ghs5, linewidth=2, linestyle='--', color='m')\n",
    "# plot(x, med_ghs6, linewidth=2, linestyle='-.', color='y')\n",
    "\n",
    "xlim(-1, n_generations)\n",
    "# ylim(0, 0.1)\n",
    "xlabel('Iterations')\n",
    "ylabel('Objective Function')\n",
    "title(\"Median plot\",\n",
    "         fontsize=10, weight='semibold')\n",
    "# legend = legend([\"hs_cont\", \"ghs_cont\", \"ghs_cont_1\", \"ghs_cont_2\", \"ghs_cont_3\", \"ghs_cont_4\", \"ghs_cont_5\", \"ghs_cont_6\"], loc=2);\n",
    "legend = legend([\"hs_cont\", \"ghs_cont\"], loc=2);\n",
    "# legend = legend([\"ghs_cont\", \"ghs_cont_m\"], loc=2);\n",
    "frame = legend.get_frame()\n",
    "frame.set_facecolor('0.9')\n",
    "frame.set_edgecolor('0.9')\n",
    "# xticks(np.arange(0, 50, 5))\n",
    "fig.tight_layout()\n",
    "savefig('plots/median_sphere2.png')\n",
    "show()"
   ]
  },
  {
   "cell_type": "code",
   "execution_count": null,
   "metadata": {
    "collapsed": true
   },
   "outputs": [],
   "source": [
    "df[df['fitness'].apply(lambda x: x > 0.002)] = 0.001 "
   ]
  },
  {
   "cell_type": "code",
   "execution_count": null,
   "metadata": {
    "collapsed": true
   },
   "outputs": [],
   "source": [
    "med_ghs[med_ghs[] > 255] = x"
   ]
  },
  {
   "cell_type": "code",
   "execution_count": 55,
   "metadata": {
    "collapsed": false
   },
   "outputs": [],
   "source": [
    "med_ghs[med_ghs > 0.1] = 0.1\n",
    "med_ghs1[med_ghs1 > 0.1] = 0.1"
   ]
  },
  {
   "cell_type": "code",
   "execution_count": 53,
   "metadata": {
    "collapsed": false
   },
   "outputs": [
    {
     "data": {
      "text/plain": [
       "array([ 0.1       ,  0.1       ,  0.1       ,  0.1       ,  0.1       ,\n",
       "        0.1       ,  0.1       ,  0.1       ,  0.1       ,  0.1       ,\n",
       "        0.1       ,  0.1       ,  0.1       ,  0.1       ,  0.1       ,\n",
       "        0.1       ,  0.1       ,  0.1       ,  0.1       ,  0.1       ,\n",
       "        0.1       ,  0.1       ,  0.1       ,  0.1       ,  0.1       ,\n",
       "        0.1       ,  0.1       ,  0.1       ,  0.1       ,  0.1       ,\n",
       "        0.1       ,  0.1       ,  0.1       ,  0.1       ,  0.1       ,\n",
       "        0.09074772,  0.08194861,  0.07670936,  0.07245924,  0.06965317,\n",
       "        0.06674225,  0.06376038,  0.06075492,  0.05758329,  0.05635681,\n",
       "        0.05446304,  0.05289321,  0.05105723,  0.04979479,  0.04855605,\n",
       "        0.04811868,  0.04805993,  0.04750785,  0.04597503,  0.04540789,\n",
       "        0.04489684,  0.04317658,  0.04317658,  0.04273075,  0.04196946,\n",
       "        0.0414917 ,  0.0403978 ,  0.04038082,  0.04022043,  0.0399318 ,\n",
       "        0.03953125,  0.03904866,  0.03862066,  0.03756422,  0.03746155,\n",
       "        0.0371143 ,  0.03660773,  0.03576119,  0.03538921,  0.03499839,\n",
       "        0.03453417,  0.03453417,  0.03434587,  0.03412547,  0.03412547,\n",
       "        0.03365861,  0.03336861,  0.03336861,  0.03314532,  0.03314532,\n",
       "        0.03314532,  0.03272847,  0.0324264 ,  0.0324264 ,  0.03237041,\n",
       "        0.03220263,  0.03209945,  0.03172347,  0.03160436,  0.03160436,\n",
       "        0.03121999,  0.03043374,  0.03043374,  0.03028884,  0.02999056])"
      ]
     },
     "execution_count": 53,
     "metadata": {},
     "output_type": "execute_result"
    }
   ],
   "source": [
    "med_ghs"
   ]
  },
  {
   "cell_type": "code",
   "execution_count": 77,
   "metadata": {
    "collapsed": false
   },
   "outputs": [
    {
     "data": {
      "image/png": "[encoded data removed]",
      "text/plain": [
       "<matplotlib.figure.Figure at 0x23db6333978>"
      ]
     },
     "metadata": {},
     "output_type": "display_data"
    }
   ],
   "source": [
    "subplot(1, 2, 1)\n",
    "plot(x, med_ghs, linewidth=2, linestyle='--', color='#006BB2')\n",
    "plot(x, med_ghs1, linewidth=2, linestyle='-', color='b')\n",
    "title('A tale of 2 subplots')\n",
    "ylabel('Damped oscillation')\n",
    "\n",
    "## cute some values\n",
    "med_ghs_s  = med_ghs\n",
    "med_ghs_s[med_ghs_s > 0.1] = 0.1\n",
    "med_ghs1_s = med_ghs1\n",
    "med_ghs1_s[med_ghs1_s > 0.1] = 0.1\n",
    "\n",
    "subplot(1, 2, 2)\n",
    "plot(x, med_ghs_s, linewidth=2, linestyle='--', color='#006BB2')\n",
    "plot(x, med_ghs1_s, linewidth=2, linestyle='-', color='b')\n",
    "xlabel('time (s)')\n",
    "ylabel('Undamped')\n",
    "xlim(35, n_generations)\n",
    "show()"
   ]
  }
 ],
 "metadata": {
  "kernelspec": {
   "display_name": "Python 3",
   "language": "python",
   "name": "python3"
  },
  "language_info": {
   "codemirror_mode": {
    "name": "ipython",
    "version": 3
   },
   "file_extension": ".py",
   "mimetype": "text/x-python",
   "name": "python",
   "nbconvert_exporter": "python",
   "pygments_lexer": "ipython3",
   "version": "3.5.1"
  }
 },
 "nbformat": 4,
 "nbformat_minor": 0
}
